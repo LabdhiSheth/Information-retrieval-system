{
 "cells": [
  {
   "cell_type": "markdown",
   "metadata": {},
   "source": [
    "# 18BCE101\n",
    "## Practical 2\n",
    "### Aim: \n",
    "Instead of single document you hve to create minimum five TEXT documents and then apply preprocessing steps to form a vocabulary and represent using boolean approach"
   ]
  },
  {
   "cell_type": "markdown",
   "metadata": {},
   "source": [
    "# Phase 1 : Build corpus"
   ]
  },
  {
   "cell_type": "code",
   "execution_count": 2,
   "metadata": {},
   "outputs": [
    {
     "name": "stdout",
     "output_type": "stream",
     "text": [
      "Enter the file name: doc1\n",
      "Enter the content: Well! he huffed and he puffed. He puffed and he huffed. And he huffed, huffed, and he puffed, puffed; but he could not blow the house down. At last, he was so out of breath that he couldn't huff and he couldn't puff anymore. So he stopped to rest and thought a bit. But this was too much. The wolf danced about with rage and swore he would come down the chimney and eat up the little pig for his supper. But while he was climbing on to the roof the little pig made up a blazing fire and put on a big pot full of water to boil. Then, just as the wolf was coming down the chimney, the little piggy pulled off the lid, and plop! in fell the wolf into the scalding water.\n",
      "Enter the file name: doc2\n",
      "Enter the content: In the sentence above, we can see that there are two \"can\" words, but both of them have different meanings. Here the first \"can\" word is used for question formation. The second \"can\" word at the end of the sentence is used to represent a container that holds food or liquid.  Hence, from the examples above, we can see that language processing is not \"deterministic\" (the same language has the same interpretations), and something suitable to one person might not be suitable to another. Therefore, Natural Language Processing (NLP) has a non-deterministic approach. In other words, Natural Language Processing can be used to create a new intelligent system that can understand how humans understand and interpret language in different situations.\n",
      "Enter the file name: doc3\n",
      "Enter the content: It uses common sense reasoning for processing tasks. For instance, the freezing temperature can lead to death, or hot coffee can burn people's skin, along with other common sense reasoning tasks. However, this process can take much time, and it requires manual effort.  It uses large amounts of data and tries to derive conclusions from it. Statistical NLP uses machine learning algorithms to train NLP models. After successful training on large amounts of data, the trained model will have positive outcomes with deduction.\n",
      "Enter the file name: doc4\n",
      "Enter the content: Once upon a time there was an old mother pig who had three little pigs and not enough food to feed them. So when they were old enough, she sent them out into the world to seek their fortunes.  The first little pig was very lazy. He didn't want to work at all and he built his house out of straw. The second little pig worked a little bit harder but he was somewhat lazy too and he built his house out of sticks. Then, they sang and danced and played together the rest of the day.\n",
      "Enter the file name: doc5\n",
      "Enter the content: So he huffed and he puffed and he blew the house down! The wolf was greedy and he tried to catch both pigs at once, but he was too greedy and got neither! His big jaws clamped down on nothing but air and the two little pigs scrambled away as fast as their little hooves would carry them.  The wolf chased them down the lane and he almost caught them. But they made it to the brick house and slammed the door closed before the wolf could catch them. The three little pigs they were very frightened, they knew the wolf wanted to eat them. And that was very, very true. The wolf hadn't eaten all day and he had worked up a large appetite chasing the pigs around and now he could smell all three of them inside and he knew that the three little pigs would make a lovely feast.\n"
     ]
    }
   ],
   "source": [
    "for i in range(5):\n",
    "    name = input(\"Enter the file name: \")\n",
    "    f = open(name+\".txt\", \"a\")\n",
    "    content = input(\"Enter the content: \")\n",
    "    f.write(content)\n",
    "    f.close()"
   ]
  },
  {
   "cell_type": "markdown",
   "metadata": {},
   "source": [
    "# Phase 2 : Preprocess the corpus documents individually and come up with a joint vocabulary"
   ]
  },
  {
   "cell_type": "code",
   "execution_count": 1,
   "metadata": {},
   "outputs": [],
   "source": [
    "import nltk\n",
    "from nltk import sent_tokenize\n",
    "from nltk import word_tokenize\n",
    "import string\n",
    "from nltk.corpus import stopwords\n",
    "from nltk.stem import PorterStemmer\n",
    "from nltk.probability import FreqDist\n",
    "import pandas as pd\n",
    "from sklearn.feature_extraction.text import CountVectorizer\n",
    "import numpy as np\n",
    "from matplotlib import pyplot as plt\n",
    "from wordcloud import WordCloud"
   ]
  },
  {
   "cell_type": "code",
   "execution_count": 2,
   "metadata": {},
   "outputs": [
    {
     "name": "stderr",
     "output_type": "stream",
     "text": [
      "[nltk_data] Downloading package stopwords to\n",
      "[nltk_data]     C:\\Users\\labdh\\AppData\\Roaming\\nltk_data...\n",
      "[nltk_data]   Package stopwords is already up-to-date!\n",
      "[nltk_data] Downloading package punkt to\n",
      "[nltk_data]     C:\\Users\\labdh\\AppData\\Roaming\\nltk_data...\n",
      "[nltk_data]   Package punkt is already up-to-date!\n"
     ]
    },
    {
     "data": {
      "text/plain": [
       "True"
      ]
     },
     "execution_count": 2,
     "metadata": {},
     "output_type": "execute_result"
    }
   ],
   "source": [
    "# For stopword removal\n",
    "nltk.download('stopwords')\n",
    "# For tokenization\n",
    "nltk.download('punkt')"
   ]
  },
  {
   "cell_type": "code",
   "execution_count": 2,
   "metadata": {},
   "outputs": [
    {
     "data": {
      "text/plain": [
       "{'a',\n",
       " 'about',\n",
       " 'above',\n",
       " 'after',\n",
       " 'again',\n",
       " 'against',\n",
       " 'ain',\n",
       " 'all',\n",
       " 'am',\n",
       " 'an',\n",
       " 'and',\n",
       " 'any',\n",
       " 'are',\n",
       " 'aren',\n",
       " \"aren't\",\n",
       " 'as',\n",
       " 'at',\n",
       " 'be',\n",
       " 'because',\n",
       " 'been',\n",
       " 'before',\n",
       " 'being',\n",
       " 'below',\n",
       " 'between',\n",
       " 'both',\n",
       " 'but',\n",
       " 'by',\n",
       " 'can',\n",
       " 'couldn',\n",
       " \"couldn't\",\n",
       " 'd',\n",
       " 'did',\n",
       " 'didn',\n",
       " \"didn't\",\n",
       " 'do',\n",
       " 'does',\n",
       " 'doesn',\n",
       " \"doesn't\",\n",
       " 'doing',\n",
       " 'don',\n",
       " \"don't\",\n",
       " 'down',\n",
       " 'during',\n",
       " 'each',\n",
       " 'few',\n",
       " 'for',\n",
       " 'from',\n",
       " 'further',\n",
       " 'had',\n",
       " 'hadn',\n",
       " \"hadn't\",\n",
       " 'has',\n",
       " 'hasn',\n",
       " \"hasn't\",\n",
       " 'have',\n",
       " 'haven',\n",
       " \"haven't\",\n",
       " 'having',\n",
       " 'he',\n",
       " 'her',\n",
       " 'here',\n",
       " 'hers',\n",
       " 'herself',\n",
       " 'him',\n",
       " 'himself',\n",
       " 'his',\n",
       " 'how',\n",
       " 'i',\n",
       " 'if',\n",
       " 'in',\n",
       " 'into',\n",
       " 'is',\n",
       " 'isn',\n",
       " \"isn't\",\n",
       " 'it',\n",
       " \"it's\",\n",
       " 'its',\n",
       " 'itself',\n",
       " 'just',\n",
       " 'll',\n",
       " 'm',\n",
       " 'ma',\n",
       " 'me',\n",
       " 'mightn',\n",
       " \"mightn't\",\n",
       " 'more',\n",
       " 'most',\n",
       " 'mustn',\n",
       " \"mustn't\",\n",
       " 'my',\n",
       " 'myself',\n",
       " 'needn',\n",
       " \"needn't\",\n",
       " 'no',\n",
       " 'nor',\n",
       " 'not',\n",
       " 'now',\n",
       " 'o',\n",
       " 'of',\n",
       " 'off',\n",
       " 'on',\n",
       " 'once',\n",
       " 'only',\n",
       " 'or',\n",
       " 'other',\n",
       " 'our',\n",
       " 'ours',\n",
       " 'ourselves',\n",
       " 'out',\n",
       " 'over',\n",
       " 'own',\n",
       " 're',\n",
       " 's',\n",
       " 'same',\n",
       " 'shan',\n",
       " \"shan't\",\n",
       " 'she',\n",
       " \"she's\",\n",
       " 'should',\n",
       " \"should've\",\n",
       " 'shouldn',\n",
       " \"shouldn't\",\n",
       " 'so',\n",
       " 'some',\n",
       " 'such',\n",
       " 't',\n",
       " 'than',\n",
       " 'that',\n",
       " \"that'll\",\n",
       " 'the',\n",
       " 'their',\n",
       " 'theirs',\n",
       " 'them',\n",
       " 'themselves',\n",
       " 'then',\n",
       " 'there',\n",
       " 'these',\n",
       " 'they',\n",
       " 'this',\n",
       " 'those',\n",
       " 'through',\n",
       " 'to',\n",
       " 'too',\n",
       " 'under',\n",
       " 'until',\n",
       " 'up',\n",
       " 've',\n",
       " 'very',\n",
       " 'was',\n",
       " 'wasn',\n",
       " \"wasn't\",\n",
       " 'we',\n",
       " 'were',\n",
       " 'weren',\n",
       " \"weren't\",\n",
       " 'what',\n",
       " 'when',\n",
       " 'where',\n",
       " 'which',\n",
       " 'while',\n",
       " 'who',\n",
       " 'whom',\n",
       " 'why',\n",
       " 'will',\n",
       " 'with',\n",
       " 'won',\n",
       " \"won't\",\n",
       " 'wouldn',\n",
       " \"wouldn't\",\n",
       " 'y',\n",
       " 'you',\n",
       " \"you'd\",\n",
       " \"you'll\",\n",
       " \"you're\",\n",
       " \"you've\",\n",
       " 'your',\n",
       " 'yours',\n",
       " 'yourself',\n",
       " 'yourselves'}"
      ]
     },
     "execution_count": 2,
     "metadata": {},
     "output_type": "execute_result"
    }
   ],
   "source": [
    "stop_word = set(stopwords.words('english'))\n",
    " \n",
    "# Print complete list of stop words dictionary of NLTK\n",
    "stop_word"
   ]
  },
  {
   "cell_type": "code",
   "execution_count": 3,
   "metadata": {},
   "outputs": [],
   "source": [
    "def tokenization(doc):\n",
    "    doc = doc.translate(str.maketrans('', '', string.punctuation))\n",
    "    words = word_tokenize(doc)\n",
    "    return words"
   ]
  },
  {
   "cell_type": "code",
   "execution_count": 4,
   "metadata": {},
   "outputs": [],
   "source": [
    "def stopWord(words):\n",
    "    aftersw = []\n",
    "    for l in words:\n",
    "        if l not in stop_word:\n",
    "            aftersw.append(l)\n",
    "            \n",
    "    return aftersw"
   ]
  },
  {
   "cell_type": "code",
   "execution_count": 5,
   "metadata": {},
   "outputs": [],
   "source": [
    "def stemming(aftersw):\n",
    "    ps = PorterStemmer()\n",
    "    stemwords = []\n",
    "    \n",
    "    for a in aftersw:\n",
    "        stemwords.append(ps.stem(a))\n",
    "        \n",
    "    return stemwords"
   ]
  },
  {
   "cell_type": "code",
   "execution_count": 6,
   "metadata": {},
   "outputs": [],
   "source": [
    "def caseConversion(stemwords):\n",
    "    lowerWords = []\n",
    "    for w in stemwords:\n",
    "        lowerWords.append(w.lower())\n",
    "    return lowerWords"
   ]
  },
  {
   "cell_type": "code",
   "execution_count": 7,
   "metadata": {},
   "outputs": [],
   "source": [
    "vocab = []"
   ]
  },
  {
   "cell_type": "code",
   "execution_count": 8,
   "metadata": {},
   "outputs": [],
   "source": [
    "def addvocab(lowerWords):\n",
    "    global vocab\n",
    "    vocab.append(lowerWords)"
   ]
  },
  {
   "cell_type": "code",
   "execution_count": 9,
   "metadata": {},
   "outputs": [
    {
     "name": "stdout",
     "output_type": "stream",
     "text": [
      "For doc 1\n",
      "After word tokenization\n",
      " ['Well', 'he', 'huffed', 'and', 'he', 'puffed', 'He', 'puffed', 'and', 'he', 'huffed', 'And', 'he', 'huffed', 'huffed', 'and', 'he', 'puffed', 'puffed', 'but', 'he', 'could', 'not', 'blow', 'the', 'house', 'down', 'At', 'last', 'he', 'was', 'so', 'out', 'of', 'breath', 'that', 'he', 'couldnt', 'huff', 'and', 'he', 'couldnt', 'puff', 'anymore', 'So', 'he', 'stopped', 'to', 'rest', 'and', 'thought', 'a', 'bit', 'But', 'this', 'was', 'too', 'much', 'The', 'wolf', 'danced', 'about', 'with', 'rage', 'and', 'swore', 'he', 'would', 'come', 'down', 'the', 'chimney', 'and', 'eat', 'up', 'the', 'little', 'pig', 'for', 'his', 'supper', 'But', 'while', 'he', 'was', 'climbing', 'on', 'to', 'the', 'roof', 'the', 'little', 'pig', 'made', 'up', 'a', 'blazing', 'fire', 'and', 'put', 'on', 'a', 'big', 'pot', 'full', 'of', 'water', 'to', 'boil', 'Then', 'just', 'as', 'the', 'wolf', 'was', 'coming', 'down', 'the', 'chimney', 'the', 'little', 'piggy', 'pulled', 'off', 'the', 'lid', 'and', 'plop', 'in', 'fell', 'the', 'wolf', 'into', 'the', 'scalding', 'water']\n",
      "\n",
      "After stop words removal\n",
      " ['Well', 'huffed', 'puffed', 'He', 'puffed', 'huffed', 'And', 'huffed', 'huffed', 'puffed', 'puffed', 'could', 'blow', 'house', 'At', 'last', 'breath', 'couldnt', 'huff', 'couldnt', 'puff', 'anymore', 'So', 'stopped', 'rest', 'thought', 'bit', 'But', 'much', 'The', 'wolf', 'danced', 'rage', 'swore', 'would', 'come', 'chimney', 'eat', 'little', 'pig', 'supper', 'But', 'climbing', 'roof', 'little', 'pig', 'made', 'blazing', 'fire', 'put', 'big', 'pot', 'full', 'water', 'boil', 'Then', 'wolf', 'coming', 'chimney', 'little', 'piggy', 'pulled', 'lid', 'plop', 'fell', 'wolf', 'scalding', 'water']\n",
      "\n",
      "After stemming\n",
      " ['well', 'huf', 'puf', 'He', 'puf', 'huf', 'and', 'huf', 'huf', 'puf', 'puf', 'could', 'blow', 'hous', 'At', 'last', 'breath', 'couldnt', 'huff', 'couldnt', 'puff', 'anymor', 'So', 'stop', 'rest', 'thought', 'bit', 'but', 'much', 'the', 'wolf', 'danc', 'rage', 'swore', 'would', 'come', 'chimney', 'eat', 'littl', 'pig', 'supper', 'but', 'climb', 'roof', 'littl', 'pig', 'made', 'blaze', 'fire', 'put', 'big', 'pot', 'full', 'water', 'boil', 'then', 'wolf', 'come', 'chimney', 'littl', 'piggi', 'pull', 'lid', 'plop', 'fell', 'wolf', 'scald', 'water']\n",
      "\n",
      "After case conversion\n",
      " ['well', 'huf', 'puf', 'he', 'puf', 'huf', 'and', 'huf', 'huf', 'puf', 'puf', 'could', 'blow', 'hous', 'at', 'last', 'breath', 'couldnt', 'huff', 'couldnt', 'puff', 'anymor', 'so', 'stop', 'rest', 'thought', 'bit', 'but', 'much', 'the', 'wolf', 'danc', 'rage', 'swore', 'would', 'come', 'chimney', 'eat', 'littl', 'pig', 'supper', 'but', 'climb', 'roof', 'littl', 'pig', 'made', 'blaze', 'fire', 'put', 'big', 'pot', 'full', 'water', 'boil', 'then', 'wolf', 'come', 'chimney', 'littl', 'piggi', 'pull', 'lid', 'plop', 'fell', 'wolf', 'scald', 'water']\n",
      "\n",
      "The vocabulary for that document is\n",
      " {'water', 'bit', 'he', 'huff', 'chimney', 'puf', 'well', 'lid', 'puff', 'come', 'made', 'boil', 'fire', 'full', 'big', 'supper', 'pull', 'plop', 'stop', 'couldnt', 'much', 'anymor', 'thought', 'would', 'blow', 'the', 'put', 'at', 'hous', 'but', 'so', 'climb', 'rest', 'piggi', 'pig', 'fell', 'and', 'then', 'wolf', 'huf', 'littl', 'rage', 'blaze', 'pot', 'danc', 'last', 'could', 'eat', 'roof', 'swore', 'scald', 'breath'}\n",
      "\n",
      "---------------------------------------------------------------------------------------------------------------\n",
      "\n",
      "For doc 2\n",
      "After word tokenization\n",
      " ['In', 'the', 'sentence', 'above', 'we', 'can', 'see', 'that', 'there', 'are', 'two', 'can', 'words', 'but', 'both', 'of', 'them', 'have', 'different', 'meanings', 'Here', 'the', 'first', 'can', 'word', 'is', 'used', 'for', 'question', 'formation', 'The', 'second', 'can', 'word', 'at', 'the', 'end', 'of', 'the', 'sentence', 'is', 'used', 'to', 'represent', 'a', 'container', 'that', 'holds', 'food', 'or', 'liquid', 'Hence', 'from', 'the', 'examples', 'above', 'we', 'can', 'see', 'that', 'language', 'processing', 'is', 'not', 'deterministic', 'the', 'same', 'language', 'has', 'the', 'same', 'interpretations', 'and', 'something', 'suitable', 'to', 'one', 'person', 'might', 'not', 'be', 'suitable', 'to', 'another', 'Therefore', 'Natural', 'Language', 'Processing', 'NLP', 'has', 'a', 'nondeterministic', 'approach', 'In', 'other', 'words', 'Natural', 'Language', 'Processing', 'can', 'be', 'used', 'to', 'create', 'a', 'new', 'intelligent', 'system', 'that', 'can', 'understand', 'how', 'humans', 'understand', 'and', 'interpret', 'language', 'in', 'different', 'situations']\n",
      "\n",
      "After stop words removal\n",
      " ['In', 'sentence', 'see', 'two', 'words', 'different', 'meanings', 'Here', 'first', 'word', 'used', 'question', 'formation', 'The', 'second', 'word', 'end', 'sentence', 'used', 'represent', 'container', 'holds', 'food', 'liquid', 'Hence', 'examples', 'see', 'language', 'processing', 'deterministic', 'language', 'interpretations', 'something', 'suitable', 'one', 'person', 'might', 'suitable', 'another', 'Therefore', 'Natural', 'Language', 'Processing', 'NLP', 'nondeterministic', 'approach', 'In', 'words', 'Natural', 'Language', 'Processing', 'used', 'create', 'new', 'intelligent', 'system', 'understand', 'humans', 'understand', 'interpret', 'language', 'different', 'situations']\n",
      "\n",
      "After stemming\n",
      " ['In', 'sentenc', 'see', 'two', 'word', 'differ', 'mean', 'here', 'first', 'word', 'use', 'question', 'format', 'the', 'second', 'word', 'end', 'sentenc', 'use', 'repres', 'contain', 'hold', 'food', 'liquid', 'henc', 'exampl', 'see', 'languag', 'process', 'determinist', 'languag', 'interpret', 'someth', 'suitabl', 'one', 'person', 'might', 'suitabl', 'anoth', 'therefor', 'natur', 'languag', 'process', 'nlp', 'nondeterminist', 'approach', 'In', 'word', 'natur', 'languag', 'process', 'use', 'creat', 'new', 'intellig', 'system', 'understand', 'human', 'understand', 'interpret', 'languag', 'differ', 'situat']\n",
      "\n",
      "After case conversion\n",
      " ['in', 'sentenc', 'see', 'two', 'word', 'differ', 'mean', 'here', 'first', 'word', 'use', 'question', 'format', 'the', 'second', 'word', 'end', 'sentenc', 'use', 'repres', 'contain', 'hold', 'food', 'liquid', 'henc', 'exampl', 'see', 'languag', 'process', 'determinist', 'languag', 'interpret', 'someth', 'suitabl', 'one', 'person', 'might', 'suitabl', 'anoth', 'therefor', 'natur', 'languag', 'process', 'nlp', 'nondeterminist', 'approach', 'in', 'word', 'natur', 'languag', 'process', 'use', 'creat', 'new', 'intellig', 'system', 'understand', 'human', 'understand', 'interpret', 'languag', 'differ', 'situat']\n",
      "\n",
      "The vocabulary for that document is\n",
      " {'henc', 'someth', 'see', 'hold', 'person', 'might', 'anoth', 'human', 'first', 'one', 'food', 'situat', 'new', 'intellig', 'end', 'the', 'determinist', 'process', 'repres', 'use', 'here', 'suitabl', 'nlp', 'question', 'two', 'sentenc', 'in', 'contain', 'liquid', 'approach', 'format', 'nondeterminist', 'system', 'interpret', 'languag', 'creat', 'therefor', 'natur', 'second', 'exampl', 'understand', 'word', 'differ', 'mean'}\n",
      "\n",
      "---------------------------------------------------------------------------------------------------------------\n",
      "\n",
      "For doc 3\n",
      "After word tokenization\n",
      " ['It', 'uses', 'common', 'sense', 'reasoning', 'for', 'processing', 'tasks', 'For', 'instance', 'the', 'freezing', 'temperature', 'can', 'lead', 'to', 'death', 'or', 'hot', 'coffee', 'can', 'burn', 'peoples', 'skin', 'along', 'with', 'other', 'common', 'sense', 'reasoning', 'tasks', 'However', 'this', 'process', 'can', 'take', 'much', 'time', 'and', 'it', 'requires', 'manual', 'effort', 'It', 'uses', 'large', 'amounts', 'of', 'data', 'and', 'tries', 'to', 'derive', 'conclusions', 'from', 'it', 'Statistical', 'NLP', 'uses', 'machine', 'learning', 'algorithms', 'to', 'train', 'NLP', 'models', 'After', 'successful', 'training', 'on', 'large', 'amounts', 'of', 'data', 'the', 'trained', 'model', 'will', 'have', 'positive', 'outcomes', 'with', 'deduction']\n",
      "\n",
      "After stop words removal\n",
      " ['It', 'uses', 'common', 'sense', 'reasoning', 'processing', 'tasks', 'For', 'instance', 'freezing', 'temperature', 'lead', 'death', 'hot', 'coffee', 'burn', 'peoples', 'skin', 'along', 'common', 'sense', 'reasoning', 'tasks', 'However', 'process', 'take', 'much', 'time', 'requires', 'manual', 'effort', 'It', 'uses', 'large', 'amounts', 'data', 'tries', 'derive', 'conclusions', 'Statistical', 'NLP', 'uses', 'machine', 'learning', 'algorithms', 'train', 'NLP', 'models', 'After', 'successful', 'training', 'large', 'amounts', 'data', 'trained', 'model', 'positive', 'outcomes', 'deduction']\n",
      "\n",
      "After stemming\n",
      " ['It', 'use', 'common', 'sens', 'reason', 'process', 'task', 'for', 'instanc', 'freez', 'temperatur', 'lead', 'death', 'hot', 'coffe', 'burn', 'peopl', 'skin', 'along', 'common', 'sens', 'reason', 'task', 'howev', 'process', 'take', 'much', 'time', 'requir', 'manual', 'effort', 'It', 'use', 'larg', 'amount', 'data', 'tri', 'deriv', 'conclus', 'statist', 'nlp', 'use', 'machin', 'learn', 'algorithm', 'train', 'nlp', 'model', 'after', 'success', 'train', 'larg', 'amount', 'data', 'train', 'model', 'posit', 'outcom', 'deduct']\n",
      "\n",
      "After case conversion\n",
      " ['it', 'use', 'common', 'sens', 'reason', 'process', 'task', 'for', 'instanc', 'freez', 'temperatur', 'lead', 'death', 'hot', 'coffe', 'burn', 'peopl', 'skin', 'along', 'common', 'sens', 'reason', 'task', 'howev', 'process', 'take', 'much', 'time', 'requir', 'manual', 'effort', 'it', 'use', 'larg', 'amount', 'data', 'tri', 'deriv', 'conclus', 'statist', 'nlp', 'use', 'machin', 'learn', 'algorithm', 'train', 'nlp', 'model', 'after', 'success', 'train', 'larg', 'amount', 'data', 'train', 'model', 'posit', 'outcom', 'deduct']\n",
      "\n",
      "The vocabulary for that document is\n",
      " {'howev', 'effort', 'success', 'task', 'machin', 'after', 'common', 'much', 'train', 'death', 'tri', 'deriv', 'learn', 'requir', 'model', 'outcom', 'coffe', 'for', 'deduct', 'process', 'use', 'peopl', 'skin', 'nlp', 'along', 'data', 'hot', 'sens', 'amount', 'take', 'algorithm', 'temperatur', 'posit', 'manual', 'time', 'it', 'lead', 'conclus', 'larg', 'freez', 'burn', 'instanc', 'reason', 'statist'}\n",
      "\n",
      "---------------------------------------------------------------------------------------------------------------\n",
      "\n",
      "For doc 4\n",
      "After word tokenization\n",
      " ['Once', 'upon', 'a', 'time', 'there', 'was', 'an', 'old', 'mother', 'pig', 'who', 'had', 'three', 'little', 'pigs', 'and', 'not', 'enough', 'food', 'to', 'feed', 'them', 'So', 'when', 'they', 'were', 'old', 'enough', 'she', 'sent', 'them', 'out', 'into', 'the', 'world', 'to', 'seek', 'their', 'fortunes', 'The', 'first', 'little', 'pig', 'was', 'very', 'lazy', 'He', 'didnt', 'want', 'to', 'work', 'at', 'all', 'and', 'he', 'built', 'his', 'house', 'out', 'of', 'straw', 'The', 'second', 'little', 'pig', 'worked', 'a', 'little', 'bit', 'harder', 'but', 'he', 'was', 'somewhat', 'lazy', 'too', 'and', 'he', 'built', 'his', 'house', 'out', 'of', 'sticks', 'Then', 'they', 'sang', 'and', 'danced', 'and', 'played', 'together', 'the', 'rest', 'of', 'the', 'day']\n",
      "\n",
      "After stop words removal\n",
      " ['Once', 'upon', 'time', 'old', 'mother', 'pig', 'three', 'little', 'pigs', 'enough', 'food', 'feed', 'So', 'old', 'enough', 'sent', 'world', 'seek', 'fortunes', 'The', 'first', 'little', 'pig', 'lazy', 'He', 'didnt', 'want', 'work', 'built', 'house', 'straw', 'The', 'second', 'little', 'pig', 'worked', 'little', 'bit', 'harder', 'somewhat', 'lazy', 'built', 'house', 'sticks', 'Then', 'sang', 'danced', 'played', 'together', 'rest', 'day']\n",
      "\n",
      "After stemming\n",
      " ['onc', 'upon', 'time', 'old', 'mother', 'pig', 'three', 'littl', 'pig', 'enough', 'food', 'feed', 'So', 'old', 'enough', 'sent', 'world', 'seek', 'fortun', 'the', 'first', 'littl', 'pig', 'lazi', 'He', 'didnt', 'want', 'work', 'built', 'hous', 'straw', 'the', 'second', 'littl', 'pig', 'work', 'littl', 'bit', 'harder', 'somewhat', 'lazi', 'built', 'hous', 'stick', 'then', 'sang', 'danc', 'play', 'togeth', 'rest', 'day']\n",
      "\n",
      "After case conversion\n",
      " ['onc', 'upon', 'time', 'old', 'mother', 'pig', 'three', 'littl', 'pig', 'enough', 'food', 'feed', 'so', 'old', 'enough', 'sent', 'world', 'seek', 'fortun', 'the', 'first', 'littl', 'pig', 'lazi', 'he', 'didnt', 'want', 'work', 'built', 'hous', 'straw', 'the', 'second', 'littl', 'pig', 'work', 'littl', 'bit', 'harder', 'somewhat', 'lazi', 'built', 'hous', 'stick', 'then', 'sang', 'danc', 'play', 'togeth', 'rest', 'day']\n",
      "\n",
      "The vocabulary for that document is\n",
      " {'bit', 'didnt', 'he', 'mother', 'harder', 'first', 'play', 'sang', 'food', 'togeth', 'work', 'seek', 'stick', 'onc', 'want', 'the', 'fortun', 'built', 'hous', 'sent', 'so', 'somewhat', 'rest', 'world', 'pig', 'lazi', 'feed', 'then', 'upon', 'littl', 'straw', 'three', 'enough', 'time', 'danc', 'day', 'second', 'old'}\n",
      "\n",
      "---------------------------------------------------------------------------------------------------------------\n",
      "\n",
      "For doc 5\n",
      "After word tokenization\n",
      " ['So', 'he', 'huffed', 'and', 'he', 'puffed', 'and', 'he', 'blew', 'the', 'house', 'down', 'The', 'wolf', 'was', 'greedy', 'and', 'he', 'tried', 'to', 'catch', 'both', 'pigs', 'at', 'once', 'but', 'he', 'was', 'too', 'greedy', 'and', 'got', 'neither', 'His', 'big', 'jaws', 'clamped', 'down', 'on', 'nothing', 'but', 'air', 'and', 'the', 'two', 'little', 'pigs', 'scrambled', 'away', 'as', 'fast', 'as', 'their', 'little', 'hooves', 'would', 'carry', 'them', 'The', 'wolf', 'chased', 'them', 'down', 'the', 'lane', 'and', 'he', 'almost', 'caught', 'them', 'But', 'they', 'made', 'it', 'to', 'the', 'brick', 'house', 'and', 'slammed', 'the', 'door', 'closed', 'before', 'the', 'wolf', 'could', 'catch', 'them', 'The', 'three', 'little', 'pigs', 'they', 'were', 'very', 'frightened', 'they', 'knew', 'the', 'wolf', 'wanted', 'to', 'eat', 'them', 'And', 'that', 'was', 'very', 'very', 'true', 'The', 'wolf', 'hadnt', 'eaten', 'all', 'day', 'and', 'he', 'had', 'worked', 'up', 'a', 'large', 'appetite', 'chasing', 'the', 'pigs', 'around', 'and', 'now', 'he', 'could', 'smell', 'all', 'three', 'of', 'them', 'inside', 'and', 'he', 'knew', 'that', 'the', 'three', 'little', 'pigs', 'would', 'make', 'a', 'lovely', 'feast']\n",
      "\n",
      "After stop words removal\n",
      " ['So', 'huffed', 'puffed', 'blew', 'house', 'The', 'wolf', 'greedy', 'tried', 'catch', 'pigs', 'greedy', 'got', 'neither', 'His', 'big', 'jaws', 'clamped', 'nothing', 'air', 'two', 'little', 'pigs', 'scrambled', 'away', 'fast', 'little', 'hooves', 'would', 'carry', 'The', 'wolf', 'chased', 'lane', 'almost', 'caught', 'But', 'made', 'brick', 'house', 'slammed', 'door', 'closed', 'wolf', 'could', 'catch', 'The', 'three', 'little', 'pigs', 'frightened', 'knew', 'wolf', 'wanted', 'eat', 'And', 'true', 'The', 'wolf', 'hadnt', 'eaten', 'day', 'worked', 'large', 'appetite', 'chasing', 'pigs', 'around', 'could', 'smell', 'three', 'inside', 'knew', 'three', 'little', 'pigs', 'would', 'make', 'lovely', 'feast']\n",
      "\n",
      "After stemming\n",
      " ['So', 'huf', 'puf', 'blew', 'hous', 'the', 'wolf', 'greedi', 'tri', 'catch', 'pig', 'greedi', 'got', 'neither', 'hi', 'big', 'jaw', 'clamp', 'noth', 'air', 'two', 'littl', 'pig', 'scrambl', 'away', 'fast', 'littl', 'hoov', 'would', 'carri', 'the', 'wolf', 'chase', 'lane', 'almost', 'caught', 'but', 'made', 'brick', 'hous', 'slam', 'door', 'close', 'wolf', 'could', 'catch', 'the', 'three', 'littl', 'pig', 'frighten', 'knew', 'wolf', 'want', 'eat', 'and', 'true', 'the', 'wolf', 'hadnt', 'eaten', 'day', 'work', 'larg', 'appetit', 'chase', 'pig', 'around', 'could', 'smell', 'three', 'insid', 'knew', 'three', 'littl', 'pig', 'would', 'make', 'love', 'feast']\n",
      "\n",
      "After case conversion\n",
      " ['so', 'huf', 'puf', 'blew', 'hous', 'the', 'wolf', 'greedi', 'tri', 'catch', 'pig', 'greedi', 'got', 'neither', 'hi', 'big', 'jaw', 'clamp', 'noth', 'air', 'two', 'littl', 'pig', 'scrambl', 'away', 'fast', 'littl', 'hoov', 'would', 'carri', 'the', 'wolf', 'chase', 'lane', 'almost', 'caught', 'but', 'made', 'brick', 'hous', 'slam', 'door', 'close', 'wolf', 'could', 'catch', 'the', 'three', 'littl', 'pig', 'frighten', 'knew', 'wolf', 'want', 'eat', 'and', 'true', 'the', 'wolf', 'hadnt', 'eaten', 'day', 'work', 'larg', 'appetit', 'chase', 'pig', 'around', 'could', 'smell', 'three', 'insid', 'knew', 'three', 'littl', 'pig', 'would', 'make', 'love', 'feast']\n",
      "\n",
      "The vocabulary for that document is\n",
      " {'fast', 'around', 'puf', 'away', 'made', 'hoov', 'greedi', 'big', 'air', 'lane', 'close', 'work', 'carri', 'insid', 'tri', 'would', 'want', 'the', 'true', 'knew', 'hous', 'but', 'so', 'blew', 'pig', 'scrambl', 'chase', 'catch', 'two', 'and', 'frighten', 'neither', 'feast', 'jaw', 'slam', 'wolf', 'huf', 'littl', 'almost', 'appetit', 'smell', 'noth', 'clamp', 'brick', 'make', 'three', 'hadnt', 'eaten', 'day', 'got', 'could', 'eat', 'larg', 'door', 'caught', 'love', 'hi'}\n",
      "\n",
      "---------------------------------------------------------------------------------------------------------------\n",
      "\n"
     ]
    }
   ],
   "source": [
    "for i in range(1,6):\n",
    "    f = open(\"doc\"+str(i)+\".txt\", \"r\")\n",
    "    doc = f.read()\n",
    "    \n",
    "    print(\"For doc\",i)\n",
    "    words = tokenization(doc)\n",
    "    print(\"After word tokenization\\n\",words)\n",
    "\n",
    "    aftersw = stopWord(words)\n",
    "    print(\"\\nAfter stop words removal\\n\",aftersw)\n",
    "\n",
    "    stemwords = stemming(aftersw)\n",
    "    print(\"\\nAfter stemming\\n\",stemwords)\n",
    "\n",
    "    lowerWords = caseConversion(stemwords)\n",
    "    print(\"\\nAfter case conversion\\n\",lowerWords)\n",
    "    \n",
    "    addvocab(lowerWords)\n",
    "    \n",
    "    #wordFreq(lowerWords, i)\n",
    "    wordList = set(lowerWords)\n",
    "    print(\"\\nThe vocabulary for that document is\\n\",wordList)\n",
    "    print(\"\\n---------------------------------------------------------------------------------------------------------------\\n\")\n",
    "\n",
    "    f.close()"
   ]
  },
  {
   "cell_type": "code",
   "execution_count": 10,
   "metadata": {},
   "outputs": [
    {
     "name": "stdout",
     "output_type": "stream",
     "text": [
      "[['well', 'huf', 'puf', 'he', 'puf', 'huf', 'and', 'huf', 'huf', 'puf', 'puf', 'could', 'blow', 'hous', 'at', 'last', 'breath', 'couldnt', 'huff', 'couldnt', 'puff', 'anymor', 'so', 'stop', 'rest', 'thought', 'bit', 'but', 'much', 'the', 'wolf', 'danc', 'rage', 'swore', 'would', 'come', 'chimney', 'eat', 'littl', 'pig', 'supper', 'but', 'climb', 'roof', 'littl', 'pig', 'made', 'blaze', 'fire', 'put', 'big', 'pot', 'full', 'water', 'boil', 'then', 'wolf', 'come', 'chimney', 'littl', 'piggi', 'pull', 'lid', 'plop', 'fell', 'wolf', 'scald', 'water'], ['in', 'sentenc', 'see', 'two', 'word', 'differ', 'mean', 'here', 'first', 'word', 'use', 'question', 'format', 'the', 'second', 'word', 'end', 'sentenc', 'use', 'repres', 'contain', 'hold', 'food', 'liquid', 'henc', 'exampl', 'see', 'languag', 'process', 'determinist', 'languag', 'interpret', 'someth', 'suitabl', 'one', 'person', 'might', 'suitabl', 'anoth', 'therefor', 'natur', 'languag', 'process', 'nlp', 'nondeterminist', 'approach', 'in', 'word', 'natur', 'languag', 'process', 'use', 'creat', 'new', 'intellig', 'system', 'understand', 'human', 'understand', 'interpret', 'languag', 'differ', 'situat'], ['it', 'use', 'common', 'sens', 'reason', 'process', 'task', 'for', 'instanc', 'freez', 'temperatur', 'lead', 'death', 'hot', 'coffe', 'burn', 'peopl', 'skin', 'along', 'common', 'sens', 'reason', 'task', 'howev', 'process', 'take', 'much', 'time', 'requir', 'manual', 'effort', 'it', 'use', 'larg', 'amount', 'data', 'tri', 'deriv', 'conclus', 'statist', 'nlp', 'use', 'machin', 'learn', 'algorithm', 'train', 'nlp', 'model', 'after', 'success', 'train', 'larg', 'amount', 'data', 'train', 'model', 'posit', 'outcom', 'deduct'], ['onc', 'upon', 'time', 'old', 'mother', 'pig', 'three', 'littl', 'pig', 'enough', 'food', 'feed', 'so', 'old', 'enough', 'sent', 'world', 'seek', 'fortun', 'the', 'first', 'littl', 'pig', 'lazi', 'he', 'didnt', 'want', 'work', 'built', 'hous', 'straw', 'the', 'second', 'littl', 'pig', 'work', 'littl', 'bit', 'harder', 'somewhat', 'lazi', 'built', 'hous', 'stick', 'then', 'sang', 'danc', 'play', 'togeth', 'rest', 'day'], ['so', 'huf', 'puf', 'blew', 'hous', 'the', 'wolf', 'greedi', 'tri', 'catch', 'pig', 'greedi', 'got', 'neither', 'hi', 'big', 'jaw', 'clamp', 'noth', 'air', 'two', 'littl', 'pig', 'scrambl', 'away', 'fast', 'littl', 'hoov', 'would', 'carri', 'the', 'wolf', 'chase', 'lane', 'almost', 'caught', 'but', 'made', 'brick', 'hous', 'slam', 'door', 'close', 'wolf', 'could', 'catch', 'the', 'three', 'littl', 'pig', 'frighten', 'knew', 'wolf', 'want', 'eat', 'and', 'true', 'the', 'wolf', 'hadnt', 'eaten', 'day', 'work', 'larg', 'appetit', 'chase', 'pig', 'around', 'could', 'smell', 'three', 'insid', 'knew', 'three', 'littl', 'pig', 'would', 'make', 'love', 'feast']]\n"
     ]
    }
   ],
   "source": [
    "print(vocab)"
   ]
  },
  {
   "cell_type": "code",
   "execution_count": 11,
   "metadata": {},
   "outputs": [
    {
     "name": "stdout",
     "output_type": "stream",
     "text": [
      "['water bit he huff chimney puf well lid puff come made boil fire full big supper pull plop stop couldnt much anymor thought would blow the put at hous but so climb rest piggi pig fell and then wolf huf littl rage blaze pot danc last could eat roof swore scald breath', 'henc someth see hold person might anoth human first one food situat new intellig end the determinist process repres use here suitabl nlp question two sentenc in contain liquid approach format nondeterminist system interpret languag creat therefor natur second exampl understand word differ mean', 'howev effort success task machin after common much train death tri deriv learn requir model outcom coffe for deduct process use peopl skin nlp along data hot sens amount take algorithm temperatur posit manual time it lead conclus larg freez burn instanc reason statist', 'bit didnt he mother harder first play sang food togeth work seek stick onc want the fortun built hous sent so somewhat rest world pig lazi feed then upon littl straw three enough time danc day second old', 'fast around puf away made hoov greedi big air lane close work carri insid tri would want the true knew hous but so blew pig scrambl chase catch two and frighten neither feast jaw slam wolf huf littl almost appetit smell noth clamp brick make three hadnt eaten day got could eat larg door caught love hi']\n"
     ]
    }
   ],
   "source": [
    "wordList = []\n",
    "for l in vocab:\n",
    "    l = set(l)\n",
    "    w = list(l)\n",
    "    s = \" \"\n",
    "    wordList.append(s.join(w))\n",
    "    \n",
    "print(wordList)"
   ]
  },
  {
   "cell_type": "markdown",
   "metadata": {},
   "source": [
    "# Phase 3: Document Term matrix using Boolean model"
   ]
  },
  {
   "cell_type": "code",
   "execution_count": 12,
   "metadata": {},
   "outputs": [],
   "source": [
    "vec = CountVectorizer()\n",
    "X = vec.fit_transform(wordList)\n",
    "df = pd.DataFrame(X.toarray(), columns=vec.get_feature_names())"
   ]
  },
  {
   "cell_type": "code",
   "execution_count": 13,
   "metadata": {},
   "outputs": [
    {
     "name": "stdout",
     "output_type": "stream",
     "text": [
      "(5, 194)\n"
     ]
    },
    {
     "data": {
      "text/html": [
       "<div>\n",
       "<style scoped>\n",
       "    .dataframe tbody tr th:only-of-type {\n",
       "        vertical-align: middle;\n",
       "    }\n",
       "\n",
       "    .dataframe tbody tr th {\n",
       "        vertical-align: top;\n",
       "    }\n",
       "\n",
       "    .dataframe thead th {\n",
       "        text-align: right;\n",
       "    }\n",
       "</style>\n",
       "<table border=\"1\" class=\"dataframe\">\n",
       "  <thead>\n",
       "    <tr style=\"text-align: right;\">\n",
       "      <th></th>\n",
       "      <th>after</th>\n",
       "      <th>air</th>\n",
       "      <th>algorithm</th>\n",
       "      <th>almost</th>\n",
       "      <th>along</th>\n",
       "      <th>amount</th>\n",
       "      <th>and</th>\n",
       "      <th>anoth</th>\n",
       "      <th>anymor</th>\n",
       "      <th>appetit</th>\n",
       "      <th>...</th>\n",
       "      <th>upon</th>\n",
       "      <th>use</th>\n",
       "      <th>want</th>\n",
       "      <th>water</th>\n",
       "      <th>well</th>\n",
       "      <th>wolf</th>\n",
       "      <th>word</th>\n",
       "      <th>work</th>\n",
       "      <th>world</th>\n",
       "      <th>would</th>\n",
       "    </tr>\n",
       "  </thead>\n",
       "  <tbody>\n",
       "    <tr>\n",
       "      <th>0</th>\n",
       "      <td>0</td>\n",
       "      <td>0</td>\n",
       "      <td>0</td>\n",
       "      <td>0</td>\n",
       "      <td>0</td>\n",
       "      <td>0</td>\n",
       "      <td>1</td>\n",
       "      <td>0</td>\n",
       "      <td>1</td>\n",
       "      <td>0</td>\n",
       "      <td>...</td>\n",
       "      <td>0</td>\n",
       "      <td>0</td>\n",
       "      <td>0</td>\n",
       "      <td>1</td>\n",
       "      <td>1</td>\n",
       "      <td>1</td>\n",
       "      <td>0</td>\n",
       "      <td>0</td>\n",
       "      <td>0</td>\n",
       "      <td>1</td>\n",
       "    </tr>\n",
       "    <tr>\n",
       "      <th>1</th>\n",
       "      <td>0</td>\n",
       "      <td>0</td>\n",
       "      <td>0</td>\n",
       "      <td>0</td>\n",
       "      <td>0</td>\n",
       "      <td>0</td>\n",
       "      <td>0</td>\n",
       "      <td>1</td>\n",
       "      <td>0</td>\n",
       "      <td>0</td>\n",
       "      <td>...</td>\n",
       "      <td>0</td>\n",
       "      <td>1</td>\n",
       "      <td>0</td>\n",
       "      <td>0</td>\n",
       "      <td>0</td>\n",
       "      <td>0</td>\n",
       "      <td>1</td>\n",
       "      <td>0</td>\n",
       "      <td>0</td>\n",
       "      <td>0</td>\n",
       "    </tr>\n",
       "    <tr>\n",
       "      <th>2</th>\n",
       "      <td>1</td>\n",
       "      <td>0</td>\n",
       "      <td>1</td>\n",
       "      <td>0</td>\n",
       "      <td>1</td>\n",
       "      <td>1</td>\n",
       "      <td>0</td>\n",
       "      <td>0</td>\n",
       "      <td>0</td>\n",
       "      <td>0</td>\n",
       "      <td>...</td>\n",
       "      <td>0</td>\n",
       "      <td>1</td>\n",
       "      <td>0</td>\n",
       "      <td>0</td>\n",
       "      <td>0</td>\n",
       "      <td>0</td>\n",
       "      <td>0</td>\n",
       "      <td>0</td>\n",
       "      <td>0</td>\n",
       "      <td>0</td>\n",
       "    </tr>\n",
       "    <tr>\n",
       "      <th>3</th>\n",
       "      <td>0</td>\n",
       "      <td>0</td>\n",
       "      <td>0</td>\n",
       "      <td>0</td>\n",
       "      <td>0</td>\n",
       "      <td>0</td>\n",
       "      <td>0</td>\n",
       "      <td>0</td>\n",
       "      <td>0</td>\n",
       "      <td>0</td>\n",
       "      <td>...</td>\n",
       "      <td>1</td>\n",
       "      <td>0</td>\n",
       "      <td>1</td>\n",
       "      <td>0</td>\n",
       "      <td>0</td>\n",
       "      <td>0</td>\n",
       "      <td>0</td>\n",
       "      <td>1</td>\n",
       "      <td>1</td>\n",
       "      <td>0</td>\n",
       "    </tr>\n",
       "    <tr>\n",
       "      <th>4</th>\n",
       "      <td>0</td>\n",
       "      <td>1</td>\n",
       "      <td>0</td>\n",
       "      <td>1</td>\n",
       "      <td>0</td>\n",
       "      <td>0</td>\n",
       "      <td>1</td>\n",
       "      <td>0</td>\n",
       "      <td>0</td>\n",
       "      <td>1</td>\n",
       "      <td>...</td>\n",
       "      <td>0</td>\n",
       "      <td>0</td>\n",
       "      <td>1</td>\n",
       "      <td>0</td>\n",
       "      <td>0</td>\n",
       "      <td>1</td>\n",
       "      <td>0</td>\n",
       "      <td>1</td>\n",
       "      <td>0</td>\n",
       "      <td>1</td>\n",
       "    </tr>\n",
       "  </tbody>\n",
       "</table>\n",
       "<p>5 rows × 194 columns</p>\n",
       "</div>"
      ],
      "text/plain": [
       "   after  air  algorithm  almost  along  amount  and  anoth  anymor  appetit  \\\n",
       "0      0    0          0       0      0       0    1      0       1        0   \n",
       "1      0    0          0       0      0       0    0      1       0        0   \n",
       "2      1    0          1       0      1       1    0      0       0        0   \n",
       "3      0    0          0       0      0       0    0      0       0        0   \n",
       "4      0    1          0       1      0       0    1      0       0        1   \n",
       "\n",
       "   ...  upon  use  want  water  well  wolf  word  work  world  would  \n",
       "0  ...     0    0     0      1     1     1     0     0      0      1  \n",
       "1  ...     0    1     0      0     0     0     1     0      0      0  \n",
       "2  ...     0    1     0      0     0     0     0     0      0      0  \n",
       "3  ...     1    0     1      0     0     0     0     1      1      0  \n",
       "4  ...     0    0     1      0     0     1     0     1      0      1  \n",
       "\n",
       "[5 rows x 194 columns]"
      ]
     },
     "execution_count": 13,
     "metadata": {},
     "output_type": "execute_result"
    }
   ],
   "source": [
    "print(df.shape)\n",
    "df"
   ]
  },
  {
   "cell_type": "markdown",
   "metadata": {},
   "source": [
    "# Phase 4: Represent term frequencies matrix"
   ]
  },
  {
   "cell_type": "code",
   "execution_count": 14,
   "metadata": {},
   "outputs": [
    {
     "name": "stdout",
     "output_type": "stream",
     "text": [
      "['well huf puf he puf huf and huf huf puf puf could blow hous at last breath couldnt huff couldnt puff anymor so stop rest thought bit but much the wolf danc rage swore would come chimney eat littl pig supper but climb roof littl pig made blaze fire put big pot full water boil then wolf come chimney littl piggi pull lid plop fell wolf scald water', 'in sentenc see two word differ mean here first word use question format the second word end sentenc use repres contain hold food liquid henc exampl see languag process determinist languag interpret someth suitabl one person might suitabl anoth therefor natur languag process nlp nondeterminist approach in word natur languag process use creat new intellig system understand human understand interpret languag differ situat', 'it use common sens reason process task for instanc freez temperatur lead death hot coffe burn peopl skin along common sens reason task howev process take much time requir manual effort it use larg amount data tri deriv conclus statist nlp use machin learn algorithm train nlp model after success train larg amount data train model posit outcom deduct', 'onc upon time old mother pig three littl pig enough food feed so old enough sent world seek fortun the first littl pig lazi he didnt want work built hous straw the second littl pig work littl bit harder somewhat lazi built hous stick then sang danc play togeth rest day', 'so huf puf blew hous the wolf greedi tri catch pig greedi got neither hi big jaw clamp noth air two littl pig scrambl away fast littl hoov would carri the wolf chase lane almost caught but made brick hous slam door close wolf could catch the three littl pig frighten knew wolf want eat and true the wolf hadnt eaten day work larg appetit chase pig around could smell three insid knew three littl pig would make love feast']\n"
     ]
    }
   ],
   "source": [
    "wordList = []\n",
    "for l in vocab:\n",
    "    s = \" \"\n",
    "    wordList.append(s.join(l))\n",
    "    \n",
    "print(wordList)"
   ]
  },
  {
   "cell_type": "code",
   "execution_count": 15,
   "metadata": {},
   "outputs": [
    {
     "name": "stdout",
     "output_type": "stream",
     "text": [
      "(5, 194)\n"
     ]
    }
   ],
   "source": [
    "vec = CountVectorizer()\n",
    "X = vec.fit_transform(wordList)\n",
    "df = pd.DataFrame(X.toarray(), columns=vec.get_feature_names())\n",
    "print(df.shape)"
   ]
  },
  {
   "cell_type": "code",
   "execution_count": 16,
   "metadata": {},
   "outputs": [
    {
     "data": {
      "text/html": [
       "<div>\n",
       "<style scoped>\n",
       "    .dataframe tbody tr th:only-of-type {\n",
       "        vertical-align: middle;\n",
       "    }\n",
       "\n",
       "    .dataframe tbody tr th {\n",
       "        vertical-align: top;\n",
       "    }\n",
       "\n",
       "    .dataframe thead th {\n",
       "        text-align: right;\n",
       "    }\n",
       "</style>\n",
       "<table border=\"1\" class=\"dataframe\">\n",
       "  <thead>\n",
       "    <tr style=\"text-align: right;\">\n",
       "      <th></th>\n",
       "      <th>after</th>\n",
       "      <th>air</th>\n",
       "      <th>algorithm</th>\n",
       "      <th>almost</th>\n",
       "      <th>along</th>\n",
       "      <th>amount</th>\n",
       "      <th>and</th>\n",
       "      <th>anoth</th>\n",
       "      <th>anymor</th>\n",
       "      <th>appetit</th>\n",
       "      <th>...</th>\n",
       "      <th>upon</th>\n",
       "      <th>use</th>\n",
       "      <th>want</th>\n",
       "      <th>water</th>\n",
       "      <th>well</th>\n",
       "      <th>wolf</th>\n",
       "      <th>word</th>\n",
       "      <th>work</th>\n",
       "      <th>world</th>\n",
       "      <th>would</th>\n",
       "    </tr>\n",
       "  </thead>\n",
       "  <tbody>\n",
       "    <tr>\n",
       "      <th>0</th>\n",
       "      <td>0</td>\n",
       "      <td>0</td>\n",
       "      <td>0</td>\n",
       "      <td>0</td>\n",
       "      <td>0</td>\n",
       "      <td>0</td>\n",
       "      <td>1</td>\n",
       "      <td>0</td>\n",
       "      <td>1</td>\n",
       "      <td>0</td>\n",
       "      <td>...</td>\n",
       "      <td>0</td>\n",
       "      <td>0</td>\n",
       "      <td>0</td>\n",
       "      <td>2</td>\n",
       "      <td>1</td>\n",
       "      <td>3</td>\n",
       "      <td>0</td>\n",
       "      <td>0</td>\n",
       "      <td>0</td>\n",
       "      <td>1</td>\n",
       "    </tr>\n",
       "    <tr>\n",
       "      <th>1</th>\n",
       "      <td>0</td>\n",
       "      <td>0</td>\n",
       "      <td>0</td>\n",
       "      <td>0</td>\n",
       "      <td>0</td>\n",
       "      <td>0</td>\n",
       "      <td>0</td>\n",
       "      <td>1</td>\n",
       "      <td>0</td>\n",
       "      <td>0</td>\n",
       "      <td>...</td>\n",
       "      <td>0</td>\n",
       "      <td>3</td>\n",
       "      <td>0</td>\n",
       "      <td>0</td>\n",
       "      <td>0</td>\n",
       "      <td>0</td>\n",
       "      <td>4</td>\n",
       "      <td>0</td>\n",
       "      <td>0</td>\n",
       "      <td>0</td>\n",
       "    </tr>\n",
       "    <tr>\n",
       "      <th>2</th>\n",
       "      <td>1</td>\n",
       "      <td>0</td>\n",
       "      <td>1</td>\n",
       "      <td>0</td>\n",
       "      <td>1</td>\n",
       "      <td>2</td>\n",
       "      <td>0</td>\n",
       "      <td>0</td>\n",
       "      <td>0</td>\n",
       "      <td>0</td>\n",
       "      <td>...</td>\n",
       "      <td>0</td>\n",
       "      <td>3</td>\n",
       "      <td>0</td>\n",
       "      <td>0</td>\n",
       "      <td>0</td>\n",
       "      <td>0</td>\n",
       "      <td>0</td>\n",
       "      <td>0</td>\n",
       "      <td>0</td>\n",
       "      <td>0</td>\n",
       "    </tr>\n",
       "    <tr>\n",
       "      <th>3</th>\n",
       "      <td>0</td>\n",
       "      <td>0</td>\n",
       "      <td>0</td>\n",
       "      <td>0</td>\n",
       "      <td>0</td>\n",
       "      <td>0</td>\n",
       "      <td>0</td>\n",
       "      <td>0</td>\n",
       "      <td>0</td>\n",
       "      <td>0</td>\n",
       "      <td>...</td>\n",
       "      <td>1</td>\n",
       "      <td>0</td>\n",
       "      <td>1</td>\n",
       "      <td>0</td>\n",
       "      <td>0</td>\n",
       "      <td>0</td>\n",
       "      <td>0</td>\n",
       "      <td>2</td>\n",
       "      <td>1</td>\n",
       "      <td>0</td>\n",
       "    </tr>\n",
       "    <tr>\n",
       "      <th>4</th>\n",
       "      <td>0</td>\n",
       "      <td>1</td>\n",
       "      <td>0</td>\n",
       "      <td>1</td>\n",
       "      <td>0</td>\n",
       "      <td>0</td>\n",
       "      <td>1</td>\n",
       "      <td>0</td>\n",
       "      <td>0</td>\n",
       "      <td>1</td>\n",
       "      <td>...</td>\n",
       "      <td>0</td>\n",
       "      <td>0</td>\n",
       "      <td>1</td>\n",
       "      <td>0</td>\n",
       "      <td>0</td>\n",
       "      <td>5</td>\n",
       "      <td>0</td>\n",
       "      <td>1</td>\n",
       "      <td>0</td>\n",
       "      <td>2</td>\n",
       "    </tr>\n",
       "  </tbody>\n",
       "</table>\n",
       "<p>5 rows × 194 columns</p>\n",
       "</div>"
      ],
      "text/plain": [
       "   after  air  algorithm  almost  along  amount  and  anoth  anymor  appetit  \\\n",
       "0      0    0          0       0      0       0    1      0       1        0   \n",
       "1      0    0          0       0      0       0    0      1       0        0   \n",
       "2      1    0          1       0      1       2    0      0       0        0   \n",
       "3      0    0          0       0      0       0    0      0       0        0   \n",
       "4      0    1          0       1      0       0    1      0       0        1   \n",
       "\n",
       "   ...  upon  use  want  water  well  wolf  word  work  world  would  \n",
       "0  ...     0    0     0      2     1     3     0     0      0      1  \n",
       "1  ...     0    3     0      0     0     0     4     0      0      0  \n",
       "2  ...     0    3     0      0     0     0     0     0      0      0  \n",
       "3  ...     1    0     1      0     0     0     0     2      1      0  \n",
       "4  ...     0    0     1      0     0     5     0     1      0      2  \n",
       "\n",
       "[5 rows x 194 columns]"
      ]
     },
     "execution_count": 16,
     "metadata": {},
     "output_type": "execute_result"
    }
   ],
   "source": [
    "df"
   ]
  },
  {
   "cell_type": "markdown",
   "metadata": {},
   "source": [
    "# Phase 5: Visulization"
   ]
  },
  {
   "cell_type": "code",
   "execution_count": 46,
   "metadata": {},
   "outputs": [
    {
     "data": {
      "image/png": "[encoded data removed]",
      "text/plain": [
       "<Figure size 432x288 with 1 Axes>"
      ]
     },
     "metadata": {
      "needs_background": "light"
     },
     "output_type": "display_data"
    },
    {
     "data": {
      "text/plain": [
       "<matplotlib.axes._subplots.AxesSubplot at 0x29d8f444a88>"
      ]
     },
     "execution_count": 46,
     "metadata": {},
     "output_type": "execute_result"
    }
   ],
   "source": [
    "#term frequency plot\n",
    "\n",
    "for w in wordList:\n",
    "    fdist = FreqDist(w.split())\n",
    "fdist.plot(30)"
   ]
  },
  {
   "cell_type": "code",
   "execution_count": 47,
   "metadata": {},
   "outputs": [
    {
     "data": {
      "image/png": "[encoded data removed]",
      "text/plain": [
       "<Figure size 1440x360 with 1 Axes>"
      ]
     },
     "metadata": {
      "needs_background": "light"
     },
     "output_type": "display_data"
    }
   ],
   "source": [
    "counts = dict(fdist.most_common(30))\n",
    "\n",
    "labels, values = zip(*counts.items())\n",
    "\n",
    "# sorting values in descending order\n",
    "indSort = np.argsort(values)[::-1]\n",
    "\n",
    "# rearranging data\n",
    "labels = np.array(labels)[indSort]\n",
    "values = np.array(values)[indSort]\n",
    "\n",
    "indexes = np.arange(len(labels))\n",
    "\n",
    "plt.figure(figsize=(20,5))\n",
    "\n",
    "plt.bar(indexes, values)\n",
    "\n",
    "# add labels\n",
    "plt.xticks(indexes, labels)\n",
    "plt.show()"
   ]
  },
  {
   "cell_type": "code",
   "execution_count": 48,
   "metadata": {},
   "outputs": [
    {
     "data": {
      "image/png": "[encoded data removed]",
      "text/plain": [
       "<Figure size 3600x1080 with 1 Axes>"
      ]
     },
     "metadata": {
      "needs_background": "light"
     },
     "output_type": "display_data"
    }
   ],
   "source": [
    "#document frequency plot\n",
    "\n",
    "datafre = {}\n",
    "\n",
    "for i in df:\n",
    "    count = 0;\n",
    "    for j in df[i]:\n",
    "        if j != 0:\n",
    "            count += 1\n",
    "    datafre.update({i:count})\n",
    "    \n",
    "labels, values = zip(*datafre.items())\n",
    "\n",
    "indexes = np.arange(len(labels))\n",
    "\n",
    "plt.figure(figsize=(50,15))\n",
    "plt.title(\"Document frequencies\")\n",
    "plt.xlabel(\"Terms\")\n",
    "plt.ylabel(\"Frequency\")\n",
    "plt.bar(labels, values)\n",
    "\n",
    "# add labels\n",
    "plt.xticks(indexes, labels)\n",
    "plt.show()"
   ]
  },
  {
   "cell_type": "code",
   "execution_count": 49,
   "metadata": {},
   "outputs": [
    {
     "data": {
      "image/png": "[encoded data removed]",
      "text/plain": [
       "<Figure size 3600x1080 with 1 Axes>"
      ]
     },
     "metadata": {
      "needs_background": "light"
     },
     "output_type": "display_data"
    }
   ],
   "source": [
    "indexes = np.arange(len(labels[:10]))\n",
    "\n",
    "plt.figure(figsize=(50,15))\n",
    "plt.title(\"Document frequencies\")\n",
    "plt.xlabel(\"Terms\")\n",
    "plt.ylabel(\"Frequency\")\n",
    "\n",
    "plt.bar(labels[:10], values[:10])\n",
    "\n",
    "# add labels\n",
    "plt.xticks(indexes, labels[:10])\n",
    "plt.show()"
   ]
  },
  {
   "cell_type": "markdown",
   "metadata": {},
   "source": [
    "# Phase 6: WordCloud"
   ]
  },
  {
   "cell_type": "code",
   "execution_count": 23,
   "metadata": {},
   "outputs": [
    {
     "data": {
      "image/png": "[encoded data removed]",
      "text/plain": [
       "<Figure size 432x288 with 1 Axes>"
      ]
     },
     "metadata": {
      "needs_background": "light"
     },
     "output_type": "display_data"
    }
   ],
   "source": [
    "wordcloud = WordCloud(background_color='white',max_words=500,height=5000,width=5000).generate(wordList[0])\n",
    "\n",
    "# Display the generated image:\n",
    "plt.imshow(wordcloud, interpolation='bilinear')\n",
    "plt.axis(\"off\")\n",
    "plt.show()"
   ]
  },
  {
   "cell_type": "code",
   "execution_count": 12,
   "metadata": {},
   "outputs": [
    {
     "name": "stdout",
     "output_type": "stream",
     "text": [
      "y\n"
     ]
    }
   ],
   "source": [
    "if 'you' in stop_word:\n",
    "    print('y')"
   ]
  },
  {
   "cell_type": "code",
   "execution_count": null,
   "metadata": {},
   "outputs": [],
   "source": []
  }
 ],
 "metadata": {
  "kernelspec": {
   "display_name": "Python 3",
   "language": "python",
   "name": "python3"
  },
  "language_info": {
   "codemirror_mode": {
    "name": "ipython",
    "version": 3
   },
   "file_extension": ".py",
   "mimetype": "text/x-python",
   "name": "python",
   "nbconvert_exporter": "python",
   "pygments_lexer": "ipython3",
   "version": "3.7.4"
  }
 },
 "nbformat": 4,
 "nbformat_minor": 2
}
