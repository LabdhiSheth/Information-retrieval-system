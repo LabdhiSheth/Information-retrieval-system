{
 "cells": [
  {
   "cell_type": "markdown",
   "metadata": {},
   "source": [
    "# Exploring NLTK\n",
    "\n",
    "NLTK is a leading platform for building Python programs to work with human language data."
   ]
  },
  {
   "cell_type": "code",
   "execution_count": 39,
   "metadata": {},
   "outputs": [],
   "source": [
    "import nltk"
   ]
  },
  {
   "cell_type": "markdown",
   "metadata": {},
   "source": [
    "#### Tokenization is the process by which big quantity of text is divided into smaller parts called tokens.\n",
    "\n",
    "###### word_tokenize() - split a sentence into words\n",
    "\n",
    "The output of word tokenization can be converted to Data Frame for better text understanding in machine learning applications."
   ]
  },
  {
   "cell_type": "code",
   "execution_count": 40,
   "metadata": {},
   "outputs": [
    {
     "name": "stdout",
     "output_type": "stream",
     "text": [
      "['This', 'is', 'the', 'first', 'IRS', 'lab', '.', 'We', 'are', 'learning', 'NLTK', 'in', 'IRS', 'lab']\n"
     ]
    }
   ],
   "source": [
    "sen = \"This is the first IRS lab. We are learning NLTK in IRS lab\"\n",
    "tokens = nltk.word_tokenize(sen)\n",
    "print(tokens)"
   ]
  },
  {
   "cell_type": "markdown",
   "metadata": {},
   "source": [
    "###### Sub-module available for the above is sent_tokenize (Sentence tokenization)"
   ]
  },
  {
   "cell_type": "code",
   "execution_count": 41,
   "metadata": {},
   "outputs": [
    {
     "name": "stdout",
     "output_type": "stream",
     "text": [
      "['Today is Thursady!', 'Have a good day.']\n"
     ]
    }
   ],
   "source": [
    "text = \"Today is Thursady! Have a good day.\"\n",
    "print(nltk.sent_tokenize(text))"
   ]
  },
  {
   "cell_type": "markdown",
   "metadata": {},
   "source": [
    "### Parts of speech Tagging is responsible for reading the text in a language and assigning some specific token (Parts of Speech) to each word."
   ]
  },
  {
   "cell_type": "code",
   "execution_count": 42,
   "metadata": {},
   "outputs": [
    {
     "data": {
      "text/plain": [
       "[('This', 'DT'),\n",
       " ('is', 'VBZ'),\n",
       " ('the', 'DT'),\n",
       " ('first', 'JJ'),\n",
       " ('IRS', 'NNP'),\n",
       " ('lab', 'NN'),\n",
       " ('.', '.'),\n",
       " ('We', 'PRP'),\n",
       " ('are', 'VBP'),\n",
       " ('learning', 'VBG'),\n",
       " ('NLTK', 'NNP'),\n",
       " ('in', 'IN'),\n",
       " ('IRS', 'NNP'),\n",
       " ('lab', 'NN')]"
      ]
     },
     "execution_count": 42,
     "metadata": {},
     "output_type": "execute_result"
    }
   ],
   "source": [
    "tagged = nltk.pos_tag(tokens)\n",
    "tagged"
   ]
  },
  {
   "cell_type": "markdown",
   "metadata": {},
   "source": [
    "\n",
    "_From the above example-_\n",
    "\n",
    "DT\tdeterminer\n",
    "\n",
    "VBZ\tverb, present tense with 3rd person singular (bases)\n",
    "\n",
    "JJ\tadjective (large)\n",
    "\n",
    "NN\tnoun, singular (cat, tree)\n",
    "\n",
    "NNP\tproper noun, singular (sarah)"
   ]
  },
  {
   "cell_type": "markdown",
   "metadata": {},
   "source": [
    "#### Chunking is used to add more structure to the sentence by following parts of speech (POS) tagging. \n",
    "\n",
    "In chunking, there is maximum one level between roots and leaves while deep parsing comprises of more than one level.\n",
    "The primary usage of chunking is to make a group of \"noun phrases.\" The parts of speech are combined with regular expressions."
   ]
  },
  {
   "cell_type": "code",
   "execution_count": 43,
   "metadata": {},
   "outputs": [
    {
     "name": "stdout",
     "output_type": "stream",
     "text": [
      "After Split: ['NLTK', 'is', 'a', 'leading', 'platform', 'for', 'building', 'Python', 'programs', 'to', 'work', 'with', 'human', 'language', 'data.']\n",
      "\n",
      "After Token: [('NLTK', 'NNP'), ('is', 'VBZ'), ('a', 'DT'), ('leading', 'VBG'), ('platform', 'NN'), ('for', 'IN'), ('building', 'VBG'), ('Python', 'NNP'), ('programs', 'NNS'), ('to', 'TO'), ('work', 'VB'), ('with', 'IN'), ('human', 'JJ'), ('language', 'NN'), ('data.', 'NN')]\n"
     ]
    }
   ],
   "source": [
    "from nltk import pos_tag\n",
    "from nltk import RegexpParser\n",
    "\n",
    "text = \"NLTK is a leading platform for building Python programs to work with human language data.\".split()\n",
    "print(\"After Split:\",text)\n",
    "\n",
    "print()\n",
    "tokens_tag = pos_tag(text)\n",
    "print(\"After Token:\",tokens_tag)"
   ]
  },
  {
   "cell_type": "markdown",
   "metadata": {},
   "source": [
    "Name of symbol\tDescription\n",
    "\n",
    ".\tAny character except new line\n",
    "\n",
    "*Match 0 or more repetitions\n",
    "\n",
    "?\tMatch 0 or 1 repetitions"
   ]
  },
  {
   "cell_type": "code",
   "execution_count": 44,
   "metadata": {},
   "outputs": [
    {
     "name": "stdout",
     "output_type": "stream",
     "text": [
      "After Regex: chunk.RegexpParser with 1 stages:\n",
      "RegexpChunkParser with 1 rules:\n",
      "       <ChunkRule: '<NN.?>*<VBD.?>*<JJ.?>*<CC>?'>\n",
      "After Chunking (S\n",
      "  (mychunk NLTK/NNP)\n",
      "  is/VBZ\n",
      "  a/DT\n",
      "  leading/VBG\n",
      "  (mychunk platform/NN)\n",
      "  for/IN\n",
      "  building/VBG\n",
      "  (mychunk Python/NNP programs/NNS)\n",
      "  to/TO\n",
      "  work/VB\n",
      "  with/IN\n",
      "  (mychunk human/JJ)\n",
      "  (mychunk language/NN data./NN))\n",
      "\n"
     ]
    }
   ],
   "source": [
    "patterns= \"\"\"mychunk:{<NN.?>*<VBD.?>*<JJ.?>*<CC>?}\"\"\"\n",
    "chunker = RegexpParser(patterns)\n",
    "print(\"After Regex:\",chunker)\n",
    "\n",
    "output = chunker.parse(tokens_tag)\n",
    "print(\"After Chunking\",output)\n",
    "\n",
    "print()\n",
    "output.draw()"
   ]
  },
  {
   "cell_type": "markdown",
   "metadata": {},
   "source": [
    "![title](img/1.png)"
   ]
  },
  {
   "cell_type": "code",
   "execution_count": 45,
   "metadata": {},
   "outputs": [
    {
     "data": {
      "image/png": "[encoded data removed]",
      "text/plain": [
       "<Figure size 432x288 with 1 Axes>"
      ]
     },
     "metadata": {
      "needs_background": "light"
     },
     "output_type": "display_data"
    },
    {
     "data": {
      "text/plain": [
       "<matplotlib.axes._subplots.AxesSubplot at 0x18875ce5948>"
      ]
     },
     "execution_count": 45,
     "metadata": {},
     "output_type": "execute_result"
    }
   ],
   "source": [
    "fd = nltk.FreqDist(tokens)\n",
    "fd.plot()"
   ]
  },
  {
   "cell_type": "markdown",
   "metadata": {},
   "source": [
    "# Exploring scikit-learn\n",
    "\n",
    "Simple and efficient tools for predictive data analysis\n",
    "\n",
    "Built on NumPy, SciPy, and matplotlib"
   ]
  },
  {
   "cell_type": "code",
   "execution_count": 46,
   "metadata": {},
   "outputs": [],
   "source": [
    "from sklearn import svm,datasets,metrics"
   ]
  },
  {
   "cell_type": "code",
   "execution_count": 47,
   "metadata": {},
   "outputs": [
    {
     "name": "stdout",
     "output_type": "stream",
     "text": [
      "Prediction :- \n",
      " [0 0 0 0 0 0 0 0 0 0 0 0 0 0 0 0 0 0 0 0 0 0 0 0 0 1 1 1 1 1 1 1 1 1 1 2 1\n",
      " 1 1 1 1 1 2 1 1 1 1 1 1 1 2 2 2 2 2 2 2 2 2 2 2 2 2 2 2 2 2 2 2 2 2 2 2 2\n",
      " 2]\n",
      "\n",
      "Accuracy score :-\n",
      " 0.9733333333333334\n",
      "\n",
      "Classification report :- \n",
      "               precision    recall  f1-score   support\n",
      "\n",
      "           0       1.00      1.00      1.00        25\n",
      "           1       1.00      0.92      0.96        25\n",
      "           2       0.93      1.00      0.96        25\n",
      "\n",
      "    accuracy                           0.97        75\n",
      "   macro avg       0.98      0.97      0.97        75\n",
      "weighted avg       0.98      0.97      0.97        75\n",
      "\n",
      "\n",
      "Confusion Matrix :-\n",
      " [[25  0  0]\n",
      " [ 0 23  2]\n",
      " [ 0  0 25]]\n"
     ]
    },
    {
     "name": "stderr",
     "output_type": "stream",
     "text": [
      "C:\\Users\\labdh\\Anaconda3\\lib\\site-packages\\sklearn\\svm\\base.py:929: ConvergenceWarning: Liblinear failed to converge, increase the number of iterations.\n",
      "  \"the number of iterations.\", ConvergenceWarning)\n"
     ]
    }
   ],
   "source": [
    "X,y = datasets.load_iris(return_X_y= True)\n",
    "X_train = X[range(1,150,1),:]\n",
    "y_train = y[range(1,150,1)]\n",
    "\n",
    "X_test = X[range(0,150,2),:]\n",
    "y_test = y[range(0,150,2)]\n",
    "\n",
    "classifier = svm.LinearSVC().fit(X_train,y_train)\n",
    "\n",
    "prediction = classifier.predict(X_test)\n",
    "print(\"Prediction :- \\n\",prediction)\n",
    "\n",
    "print(\"\\nAccuracy score :-\\n\",metrics.accuracy_score(y_test, prediction, normalize= True))\n",
    "\n",
    "print(\"\\nClassification report :- \\n\",metrics.classification_report(y_test, prediction))\n",
    "\n",
    "print(\"\\nConfusion Matrix :-\\n\",metrics.confusion_matrix(y_test,prediction))"
   ]
  },
  {
   "cell_type": "markdown",
   "metadata": {},
   "source": [
    "ref links\n",
    "https://www.guru99.com/pos-tagging-chunking-nltk.html\n",
    "\n",
    "https://www.geeksforgeeks.org/python-nltk-nltk-tokenizer-word_tokenize/#:~:text=With%20the%20help%20of%20nltk.tokenize.word_tokenize%20%28%29%20method%2C%20we,one%20or%20two%20syllables.%20Syntax%20%3A%20tokenize.word_tokenize%20%28%29\n",
    "\n",
    "https://www.datasciencelearner.com/nltk-sent_tokenize-in-python-solution/#:~:text=Nltk%20sent_tokenize%20tokenize%20the%20sentence%20into%20the%20list.,sent_tokenize%20with%20an%20example.%20nltk%20sent_tokenize%20stepwise%20Implementation-\n",
    "\n"
   ]
  },
  {
   "cell_type": "markdown",
   "metadata": {},
   "source": [
    "# Write a small program that will accept a sentence from the user, and provide a number of words, and a list of words as the output. Assume that the words are separated by blank space."
   ]
  },
  {
   "cell_type": "markdown",
   "metadata": {},
   "source": [
    "##### 1. word tokenization without NLTK"
   ]
  },
  {
   "cell_type": "code",
   "execution_count": 69,
   "metadata": {},
   "outputs": [
    {
     "name": "stdout",
     "output_type": "stream",
     "text": [
      "Enter the sentenceHow much wood would a woodchuck chuck if a woodchuck could chuck wood? He would chuck, he would, as much as he could, and chuck as much wood as a woodchuck would if a woodchuck could chuck wood.\n",
      "\n",
      "The different sentences in a list are: \t ['How much wood would a woodchuck chuck if a woodchuck could chuck wood', ' He would chuck', ' he would', ' as much as he could', ' and chuck as much wood as a woodchuck would if a woodchuck could chuck wood', '']\n",
      "\n",
      "The list of words from the various sentences are:\n",
      " ['How', 'much', 'wood', 'would', 'a', 'woodchuck', 'chuck', 'if', 'a', 'woodchuck', 'could', 'chuck', 'wood', 'He', 'would', 'chuck', 'he', 'would', 'as', 'much', 'as', 'he', 'could', 'and', 'chuck', 'as', 'much', 'wood', 'as', 'a', 'woodchuck', 'would', 'if', 'a', 'woodchuck', 'could', 'chuck', 'wood']\n",
      "\n",
      "-------------------------------------------------------------------------------------------------------------\n",
      "{'How': 1, 'much': 3, 'wood': 4, 'would': 4, 'a': 4, 'woodchuck': 4, 'chuck': 5, 'if': 2, 'could': 3, 'He': 1, 'he': 2, 'as': 4, 'and': 1}\n",
      "\n"
     ]
    },
    {
     "data": {
      "image/png": "[encoded data removed]",
      "text/plain": [
       "<Figure size 1080x504 with 1 Axes>"
      ]
     },
     "metadata": {
      "needs_background": "light"
     },
     "output_type": "display_data"
    },
    {
     "name": "stdout",
     "output_type": "stream",
     "text": [
      "\n",
      "-------------------------------------------------------------------------------------------------------------\n",
      "Word list after sorting alphabetically\n",
      " ['a', 'a', 'a', 'a', 'and', 'as', 'as', 'as', 'as', 'chuck', 'chuck', 'chuck', 'chuck', 'chuck', 'could', 'could', 'could', 'he', 'he', 'he', 'how', 'if', 'if', 'much', 'much', 'much', 'wood', 'wood', 'wood', 'wood', 'woodchuck', 'woodchuck', 'woodchuck', 'woodchuck', 'would', 'would', 'would', 'would']\n",
      "\n",
      "-------------------------------------------------------------------------------------------------------------\n"
     ]
    }
   ],
   "source": [
    "import re\n",
    "from matplotlib import pyplot as plt\n",
    "\n",
    "def freqDistribution(sen):\n",
    "    #sentence tokenization without NLTK\n",
    "    sen = re.split(r'[`\\-=~!@#$%^&*()_+\\[\\]{};\\'\\\\:\"|<,./<>?]', sen)\n",
    "    print(\"\\nThe different sentences in a list are: \\t\", sen)\n",
    "    print()\n",
    "\n",
    "    #word tokenization without NLTK\n",
    "    wordsList = []\n",
    "    for sentence in sen:\n",
    "        temp = sentence.split()\n",
    "        for w in temp:\n",
    "            wordsList.append(w)\n",
    "\n",
    "    print(\"The list of words from the various sentences are:\\n\", wordsList)\n",
    "    print(\"\\n-------------------------------------------------------------------------------------------------------------\")\n",
    "    \n",
    "    #frequency of each word\n",
    "    temp = []\n",
    "    wordFreq = {}\n",
    "\n",
    "    for word in wordsList:\n",
    "        if word not in temp:\n",
    "            temp.append(word)\n",
    "\n",
    "    for i in range(0, len(temp)):\n",
    "        wordFreq.update({temp[i]:wordsList.count(temp[i])})\n",
    "\n",
    "    print(wordFreq)\n",
    "    print()\n",
    "    fig = plt.figure(figsize =(15, 7))\n",
    "    plt.bar(wordFreq.keys(), wordFreq.values(), width=.5)\n",
    "    plt.show()\n",
    "    print(\"\\n-------------------------------------------------------------------------------------------------------------\")\n",
    "    \n",
    "    #to sort in alphabetical order\n",
    "    words = []\n",
    "    for w in wordsList:\n",
    "        words.append(w.lower())\n",
    "\n",
    "    words.sort()\n",
    "    print(\"Word list after sorting alphabetically\\n\",words)\n",
    "    print(\"\\n-------------------------------------------------------------------------------------------------------------\")\n",
    "\n",
    "    \n",
    "#main\n",
    "sen = input(\"Enter the sentence\")\n",
    "freqDistribution(sen)"
   ]
  },
  {
   "cell_type": "markdown",
   "metadata": {},
   "source": [
    "How much wood would a woodchuck chuck\n",
    "if a woodchuck could chuck wood?\n",
    "He would chuck, he would, as much as he could,\n",
    "and chuck as much wood as a woodchuck would\n",
    "if a woodchuck could chuck wood."
   ]
  },
  {
   "cell_type": "code",
   "execution_count": null,
   "metadata": {},
   "outputs": [],
   "source": []
  }
 ],
 "metadata": {
  "kernelspec": {
   "display_name": "Python 3",
   "language": "python",
   "name": "python3"
  },
  "language_info": {
   "codemirror_mode": {
    "name": "ipython",
    "version": 3
   },
   "file_extension": ".py",
   "mimetype": "text/x-python",
   "name": "python",
   "nbconvert_exporter": "python",
   "pygments_lexer": "ipython3",
   "version": "3.7.4"
  }
 },
 "nbformat": 4,
 "nbformat_minor": 2
}
